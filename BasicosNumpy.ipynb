{
 "cells": [
  {
   "source": [
    "<h1 style = 'text-align:center'>\n",
    "Bienvenidos al curso de NumPy y Matplotlib (+ Ipywidgets)!\n",
    "</h1>\n",
    "<center>\n",
    "<img src = 'https://scontent.fmex10-2.fna.fbcdn.net/v/t1.0-9/118343119_113233783831611_9219337719937477698_o.png?_nc_cat=102&_nc_sid=09cbfe&_nc_ohc=R-1ZQ2HIIS8AX8BJJQ-&_nc_ht=scontent.fmex10-2.fna&oh=903d344ae760a69e7fa26e9803825550&oe=5F9AA7D4' alt = 'DSC' height = '350' width = '525'>\n",
    "</center>"
   ],
   "cell_type": "markdown",
   "metadata": {}
  },
  {
   "source": [
    "<h1>¿Qué es NumPy?</h1>\n",
    "<center>\n",
    "<img src = 'https://upload.wikimedia.org/wikipedia/commons/thumb/3/31/NumPy_logo_2020.svg/220px-NumPy_logo_2020.svg.png' alt = 'NumPy' >\n",
    "</center>"
   ],
   "cell_type": "markdown",
   "metadata": {}
  },
  {
   "source": [
    "<p>Texto Numpy</p>"
   ],
   "cell_type": "markdown",
   "metadata": {}
  },
  {
   "cell_type": "code",
   "execution_count": null,
   "metadata": {},
   "outputs": [],
   "source": [
    "#Importamos la libreria NumPy\n",
    "import numpy as np"
   ]
  },
  {
   "source": [
    "<h2>Métodos de creación de arreglos<h2>"
   ],
   "cell_type": "markdown",
   "metadata": {}
  },
  {
   "source": [
    "<h2>Un poco de álgebra lineal</h2>"
   ],
   "cell_type": "markdown",
   "metadata": {}
  },
  {
   "source": [
    "<h2>Programación vectorial (Vectorization)</h2>\n",
    "<p>\n",
    "La vectorización se refiere a los métodos que intentan eliminar bucles usando otras funciones y operaciones equivalentes. Vamos a ver un pequeño ejemplo, digamos que tenemos un modelo matemático que describe el precio de un coche.\n",
    "</p>\n",
    "\\begin{equation*}\n",
    "  $ = x + 2y + 5z  \n",
    "\\end{equation*}\n",
    "<p>\n",
    "Ahora, imaginemos que queremos calcular el precio de unos 10000 autos, y los datos estuvieran representados con una lista anidada [[x1,y1,y1]...[x10000,y10000,z10000]], si quisieramos calcular el precio de cada uno, usando listas, seria de la siguiente manera:\n",
    "</p>"
   ],
   "cell_type": "markdown",
   "metadata": {}
  },
  {
   "cell_type": "code",
   "execution_count": null,
   "metadata": {},
   "outputs": [],
   "source": [
    "# todos_los_carros = [[3,4,1], [2,5,3], [9,3,2]]\n",
    "# precio = []\n",
    "# for uncarro in todos_los_carros:\n",
    "#     a = uncarro[0]\n",
    "#     b = uncarro[1] * 2\n",
    "#     c = uncarro[2] * 5\n",
    "#     precio.append(a+b+c)\n",
    "# print(precio)"
   ]
  },
  {
   "source": [
    "<p>Usando vectorización, tratamos nuestros datos como matrices, y se llegan a los mismos resultados que con el ciclo for</p>\n",
    "\\begin{equation*}\n",
    "  \\begin{bmatrix}\n",
    "    3 & 2 & 9\\\\\n",
    "    4 & 5 & 3\\\\\n",
    "    1 & 3 & 2\\\\\n",
    "  \\end{bmatrix}\n",
    "  \\times\n",
    "  \\begin{bmatrix}\n",
    "    1\\\\\n",
    "    2\\\\\n",
    "    5\\\\\n",
    "    \n",
    "  \\end{bmatrix}\n",
    "\\end{equation*}\n"
   ],
   "cell_type": "markdown",
   "metadata": {}
  },
  {
   "cell_type": "code",
   "execution_count": null,
   "metadata": {},
   "outputs": [],
   "source": [
    "# Mejor podemos usar multiplicación de matrices para hacer mas sencillo el código, a la vez que lo estamos optimizando\n",
    "# Definimos a la función del costo en forma de un vector 1x3\n",
    "funcion = np.array([[1,2,5]])\n",
    "#MUY IMPORTANTE CHECAR COMO SE CONTRUYE LA MATRIZ, puede que en algunos casos se tenga que transponer\n",
    "carros = np.array([[3,4,1], [2,5,3], [9,3,2]]).T \n",
    "print(np.dot(funcion,carros))"
   ]
  },
  {
   "source": [
    "<h1>¿Qué es Matplotlib?</h1>\n",
    "<center>\n",
    "<img src = 'https://steemitimages.com/640x0/https://res.cloudinary.com/hpiynhbhq/image/upload/v1521146556/frskntefqfbebukx3l1m.png' alt = 'Matplotlib' width = 330 height = 130 >\n",
    "</center>"
   ],
   "cell_type": "markdown",
   "metadata": {}
  },
  {
   "source": [
    "<p>Texto Matplotlib</p>"
   ],
   "cell_type": "markdown",
   "metadata": {}
  },
  {
   "cell_type": "code",
   "execution_count": null,
   "metadata": {},
   "outputs": [],
   "source": [
    "#Importamos Matplotlib\n",
    "import matplotlib.pyplot as plt \n"
   ]
  },
  {
   "source": [
    "<h2>Atributos modificables de una figura</h2>"
   ],
   "cell_type": "markdown",
   "metadata": {}
  },
  {
   "source": [
    "<h2>Un ejemplo rápido usando funciones trigonométricas</h2>"
   ],
   "cell_type": "markdown",
   "metadata": {}
  },
  {
   "source": [
    "<h2>Vamos a hacer una figura con 3 subplots</h2>"
   ],
   "cell_type": "markdown",
   "metadata": {}
  },
  {
   "source": [
    "<h1>¿Qué es Ipywidgets?</h1>\n",
    "<center>\n",
    "<img src = 'https://ipywidgets.readthedocs.io/en/latest/_images/widgets.PNG' alt = 'Ipywidgets' >\n",
    "</center>"
   ],
   "cell_type": "markdown",
   "metadata": {}
  },
  {
   "source": [
    "<p>\n",
    "Los widgets son objetos de Python que reaccionan a eventos, tienen una representación gráfica en el navegador, usualmente en forma de Sliders (controles deslizables), Textboxs (cajas de texto), Botones, etc. Son usados para crear interfaces gráficas en las Jupyter notebooks.  \n",
    "</p>"
   ],
   "cell_type": "markdown",
   "metadata": {}
  },
  {
   "source": [
    "<h2>Declaración</h2>\n",
    "Se necesita primeramente una función para graficar, no necesitamos devolver ningun valor.<br><br>\n",
    "def plotting(valores de los widgets):<br>\n",
    "----code<br>\n",
    "----code<br><br>\n",
    "Posteriormente, para generar el gráfico interactivo, hacemos lo siguiente:<br><br>\n",
    "_ = widgets.interact(plotting, elementos interactivos)<br><br>\n",
    "El primer parametro es la función que construye la figura, y los elementos siguientes son los widgets, estos valores se pasan automaticamente a la función plotting.\n"
   ],
   "cell_type": "markdown",
   "metadata": {}
  },
  {
   "source": [
    "<h2>¡Vamos a hacer un filtro pasabajas!"
   ],
   "cell_type": "markdown",
   "metadata": {}
  },
  {
   "source": [
    "\\begin{equation*}\n",
    "\\Large H(jw) = \\frac {1}{\\sqrt {1 + \\zeta^2 (\\frac {w}{w_{c}})^{2n}}}\n",
    "\\end{equation*}"
   ],
   "cell_type": "markdown",
   "metadata": {}
  },
  {
   "cell_type": "code",
   "execution_count": null,
   "metadata": {},
   "outputs": [],
   "source": [
    "#Importamos las librerias necesarias\n",
    "import ipywidgets as widgets\n",
    "from ipywidgets import interact"
   ]
  },
  {
   "cell_type": "code",
   "execution_count": null,
   "metadata": {},
   "outputs": [],
   "source": [
    "#Creamos la función para graficar\n",
    "def osciloscopio(FrecuenciaHz):\n",
    "    w = FrecuenciaHz\n",
    "    n = 2 #Orden del filtro\n",
    "    wc = 2000 #Frecuencia de corte\n",
    "    zeta = 0.707 #Amortigución\n",
    "    xt = np.linspace(- 0.5 * np.pi, 15 * np.pi, 2000)\n",
    "    Voltaje = 5 * np.sin(xt)\n",
    "    Gs = 1 / (1 + zeta**2 * (w/wc)**(2*n) ) ** 0.5  \n",
    "    plt.plot(xt, Voltaje, label = 'Voltaje de entrada')\n",
    "    plt.plot(xt, Voltaje * Gs, label = 'Voltaje de salida')\n",
    "    plt.legend(bbox_to_anchor=(1.05, 1), loc='upper left', borderaxespad=0.) #Localización de las leyendas de las ondas sinusoidales\n",
    "    plt.title('Simulación de osciloscopio')\n",
    "    plt.ylabel('Amplitud [V]')\n",
    "    plt.xlabel('Tiempo [t]')\n",
    "    plt.yticks(np.arange(-5, 6))\n",
    "    plt.show()"
   ]
  },
  {
   "cell_type": "code",
   "execution_count": null,
   "metadata": {},
   "outputs": [],
   "source": [
    "_ = widgets.interact(osciloscopio, \n",
    "            FrecuenciaHz = widgets.IntSlider(min = 100, max = 10000, value = 2000,\n",
    "            style = {'description_width': 'initial'}))"
   ]
  }
 ],
 "metadata": {
  "kernelspec": {
   "display_name": "Python 3",
   "language": "python",
   "name": "python3"
  },
  "language_info": {
   "codemirror_mode": {
    "name": "ipython",
    "version": 3
   },
   "file_extension": ".py",
   "mimetype": "text/x-python",
   "name": "python",
   "nbconvert_exporter": "python",
   "pygments_lexer": "ipython3",
   "version": "3.7.6-final"
  }
 },
 "nbformat": 4,
 "nbformat_minor": 4
}