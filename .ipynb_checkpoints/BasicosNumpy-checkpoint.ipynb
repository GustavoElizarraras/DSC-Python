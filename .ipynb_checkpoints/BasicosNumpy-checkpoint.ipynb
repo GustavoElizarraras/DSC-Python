{
 "cells": [
  {
   "cell_type": "markdown",
   "metadata": {},
   "source": [
    "<h1 style = 'text-align:center'>\n",
    "Bienvenidos al curso de NumPy y Matplotlib (+ Ipywidgets)!\n",
    "</h1>\n",
    "<br/>\n",
    "<center>\n",
    "<img src = 'https://cdn.hashnode.com/res/hashnode/image/upload/v1563888018200/lJaohMmyY.png' alt = 'DSC' height = '250' width = '525'>\n",
    "</center>"
   ]
  },
  {
   "cell_type": "markdown",
   "metadata": {},
   "source": [
    "<h1>¿Qué es NumPy?</h1>\n",
    "<center>\n",
    "<img src = 'https://upload.wikimedia.org/wikipedia/commons/thumb/3/31/NumPy_logo_2020.svg/220px-NumPy_logo_2020.svg.png' alt = 'NumPy' >\n",
    "</center>"
   ]
  },
  {
   "cell_type": "markdown",
   "metadata": {},
   "source": [
    "<p>Texto Numpy</p>"
   ]
  },
  {
   "cell_type": "code",
   "execution_count": 2,
   "metadata": {},
   "outputs": [],
   "source": [
    "#Importamos la libreria NumPy\n",
    "import numpy as np"
   ]
  },
  {
   "cell_type": "markdown",
   "metadata": {},
   "source": [
    "<h2>Métodos de creación de arreglos<h2>"
   ]
  },
  {
   "cell_type": "code",
   "execution_count": 3,
   "metadata": {},
   "outputs": [
    {
     "name": "stdout",
     "output_type": "stream",
     "text": [
      "13.43\n"
     ]
    }
   ],
   "source": [
    "# Escalar, estos datos pueden ser Int, String ,etc. De eso hablamos mejor en la clase anterior \n",
    "escalar = 13.43\n",
    "print(escalar)"
   ]
  },
  {
   "cell_type": "code",
   "execution_count": 4,
   "metadata": {},
   "outputs": [
    {
     "name": "stdout",
     "output_type": "stream",
     "text": [
      "<class 'float'>\n"
     ]
    }
   ],
   "source": [
    "#Pedir el tipo\n",
    "print(type(escalar))"
   ]
  },
  {
   "cell_type": "code",
   "execution_count": 42,
   "metadata": {},
   "outputs": [
    {
     "name": "stdout",
     "output_type": "stream",
     "text": [
      "(1, 4)\n",
      "2\n"
     ]
    }
   ],
   "source": [
    "#Los vectores se diferencia por los grados de libertdad que tienen.\n",
    "vector = np.array([[1,2,3,4]])\n",
    "print(vector.shape)\n",
    "print(vector[0,1])"
   ]
  },
  {
   "cell_type": "code",
   "execution_count": 6,
   "metadata": {},
   "outputs": [
    {
     "name": "stdout",
     "output_type": "stream",
     "text": [
      "[[1 2 3]\n",
      " [4 5 6]\n",
      " [7 8 9]]\n"
     ]
    }
   ],
   "source": [
    "matriz = np.array([[1,2,3],[4,5,6],[7,8,9]])\n",
    "print(matriz)"
   ]
  },
  {
   "cell_type": "code",
   "execution_count": 35,
   "metadata": {},
   "outputs": [
    {
     "name": "stdout",
     "output_type": "stream",
     "text": [
      "[[[158 222 222]\n",
      "  [  0   0 120]]\n",
      "\n",
      " [[  0   0 120]\n",
      "  [255   0 120]]]\n"
     ]
    }
   ],
   "source": [
    "tensor = np.array([\n",
    "    [[158,222,222],[0,0,120]],\n",
    "    [[0,0,120],[255,0,120]],\n",
    "])\n",
    "print(tensor)"
   ]
  },
  {
   "cell_type": "code",
   "execution_count": 8,
   "metadata": {},
   "outputs": [],
   "source": [
    "%matplotlib inline\n",
    "import matplotlib.pyplot as plt"
   ]
  },
  {
   "cell_type": "code",
   "execution_count": 36,
   "metadata": {},
   "outputs": [
    {
     "data": {
      "image/png": "[encoded data removed]",
      "text/plain": [
       "<Figure size 432x288 with 1 Axes>"
      ]
     },
     "metadata": {
      "needs_background": "light"
     },
     "output_type": "display_data"
    }
   ],
   "source": [
    "plt.imshow(tensor, interpolation='nearest')\n",
    "plt.show()"
   ]
  },
  {
   "cell_type": "markdown",
   "metadata": {},
   "source": [
    "<img src= 'https://miro.medium.com/max/891/0*jGB1CGQ9HdeUwlgB'>"
   ]
  },
  {
   "cell_type": "markdown",
   "metadata": {},
   "source": [
    "<h3>Los vectores tienen metodos ya definidos </h3>\n"
   ]
  },
  {
   "cell_type": "code",
   "execution_count": 37,
   "metadata": {},
   "outputs": [
    {
     "ename": "AttributeError",
     "evalue": "'float' object has no attribute 'shape'",
     "output_type": "error",
     "traceback": [
      "\u001b[1;31m---------------------------------------------------------------------------\u001b[0m",
      "\u001b[1;31mAttributeError\u001b[0m                            Traceback (most recent call last)",
      "\u001b[1;32m<ipython-input-37-f06d931aaba9>\u001b[0m in \u001b[0;36m<module>\u001b[1;34m\u001b[0m\n\u001b[1;32m----> 1\u001b[1;33m \u001b[0mescalar\u001b[0m\u001b[1;33m.\u001b[0m\u001b[0mshape\u001b[0m\u001b[1;33m\u001b[0m\u001b[1;33m\u001b[0m\u001b[0m\n\u001b[0m",
      "\u001b[1;31mAttributeError\u001b[0m: 'float' object has no attribute 'shape'"
     ]
    }
   ],
   "source": [
    "escalar.shape"
   ]
  },
  {
   "cell_type": "code",
   "execution_count": 38,
   "metadata": {},
   "outputs": [
    {
     "data": {
      "text/plain": [
       "(1, 4)"
      ]
     },
     "execution_count": 38,
     "metadata": {},
     "output_type": "execute_result"
    }
   ],
   "source": [
    "vector.shape"
   ]
  },
  {
   "cell_type": "code",
   "execution_count": 44,
   "metadata": {},
   "outputs": [
    {
     "data": {
      "text/plain": [
       "(3, 3)"
      ]
     },
     "execution_count": 44,
     "metadata": {},
     "output_type": "execute_result"
    }
   ],
   "source": [
    "matriz.shape"
   ]
  },
  {
   "cell_type": "code",
   "execution_count": 45,
   "metadata": {},
   "outputs": [
    {
     "data": {
      "text/plain": [
       "(2, 2, 3)"
      ]
     },
     "execution_count": 45,
     "metadata": {},
     "output_type": "execute_result"
    }
   ],
   "source": [
    "tensor.shape"
   ]
  },
  {
   "cell_type": "code",
   "execution_count": 46,
   "metadata": {},
   "outputs": [
    {
     "data": {
      "text/plain": [
       "4"
      ]
     },
     "execution_count": 46,
     "metadata": {},
     "output_type": "execute_result"
    }
   ],
   "source": [
    "vector.size"
   ]
  },
  {
   "cell_type": "code",
   "execution_count": 47,
   "metadata": {},
   "outputs": [
    {
     "data": {
      "text/plain": [
       "9"
      ]
     },
     "execution_count": 47,
     "metadata": {},
     "output_type": "execute_result"
    }
   ],
   "source": [
    "matriz.size"
   ]
  },
  {
   "cell_type": "code",
   "execution_count": 48,
   "metadata": {},
   "outputs": [
    {
     "data": {
      "text/plain": [
       "12"
      ]
     },
     "execution_count": 48,
     "metadata": {},
     "output_type": "execute_result"
    }
   ],
   "source": [
    "tensor.size"
   ]
  },
  {
   "cell_type": "markdown",
   "metadata": {},
   "source": [
    "<h3>Funcion de transpuesta </h3>"
   ]
  },
  {
   "cell_type": "code",
   "execution_count": 43,
   "metadata": {},
   "outputs": [
    {
     "name": "stdout",
     "output_type": "stream",
     "text": [
      "[[1 4 7]\n",
      " [2 5 8]\n",
      " [3 6 9]]\n",
      "******************************\n",
      "[[1 2 3]\n",
      " [4 5 6]\n",
      " [7 8 9]]\n"
     ]
    }
   ],
   "source": [
    "la_t = matriz.T\n",
    "print(la_t)\n",
    "print('***'*10)\n",
    "print(matriz)"
   ]
  },
  {
   "cell_type": "markdown",
   "metadata": {},
   "source": [
    "<h2>Un poco de álgebra lineal</h2>"
   ]
  },
  {
   "cell_type": "markdown",
   "metadata": {},
   "source": [
    "<h3> Suma de matrices </h3>"
   ]
  },
  {
   "cell_type": "markdown",
   "metadata": {},
   "source": [
    "<img src = \"https://encrypted-tbn0.gstatic.com/images?q=tbn%3AANd9GcQK1eHDso1bc2LePHwZAdR2U2zaQ9OHBvUoQQ&usqp=CAU\" >"
   ]
  },
  {
   "cell_type": "code",
   "execution_count": null,
   "metadata": {},
   "outputs": [],
   "source": [
    "#Creando A\n",
    "A = np.array([[2,0,1],[3,0,0],[5,1,1]])\n",
    "print(A)"
   ]
  },
  {
   "cell_type": "code",
   "execution_count": null,
   "metadata": {},
   "outputs": [],
   "source": [
    "#Creando B\n",
    "B = np.array([[1,0,1],[1,2,1],[1,1,0]])\n",
    "print(B)"
   ]
  },
  {
   "cell_type": "code",
   "execution_count": null,
   "metadata": {},
   "outputs": [],
   "source": [
    "#Haciendo la Suma\n",
    "C = A + B \n",
    "print(C)"
   ]
  },
  {
   "cell_type": "markdown",
   "metadata": {},
   "source": [
    "<h2>Programación vectorial (Vectorization)</h2>\n",
    "<p>\n",
    "La vectorización se refiere a los métodos que intentan eliminar bucles usando otras funciones y operaciones equivalentes. Vamos a ver un pequeño ejemplo, digamos que tenemos un modelo matemático que describe el precio de un coche.\n",
    "</p>\n",
    "\n",
    "\\begin{equation*}\n",
    "  $ = x + 2y + 5z  \n",
    "\\end{equation*}\n",
    "\n",
    "<p>\n",
    "Ahora, imaginemos que queremos calcular el precio de unos 10000 autos, y los datos estuvieran representados con una lista anidada [[x1,y1,y1]...[x10000,y10000,z10000]], si quisieramos calcular el precio de cada uno, usando listas, seria de la siguiente manera:\n",
    "</p>"
   ]
  },
  {
   "cell_type": "code",
   "execution_count": null,
   "metadata": {},
   "outputs": [],
   "source": [
    "# todos_los_carros = [[3,4,1], [2,5,3], [9,3,2]]\n",
    "# precio = []\n",
    "# for uncarro in todos_los_carros:\n",
    "#     a = uncarro[0]\n",
    "#     b = uncarro[1] * 2\n",
    "#     c = uncarro[2] * 5\n",
    "#     precio.append(a+b+c)\n",
    "# print(precio)"
   ]
  },
  {
   "cell_type": "markdown",
   "metadata": {},
   "source": [
    "<p>Usando vectorización, tratamos nuestros datos como matrices, y se llegan a los mismos resultados que con el ciclo for</p>\n",
    "\n",
    "\\begin{equation*}\n",
    "  \\begin{bmatrix}\n",
    "    3 & 4 & 1\\\\\n",
    "    2 & 5 & 3\\\\\n",
    "    9 & 3 & 2\\\\\n",
    "  \\end{bmatrix}\n",
    "  \\times\n",
    "  \\begin{bmatrix}\n",
    "    1\\\\\n",
    "    2\\\\\n",
    "    5\\\\\n",
    "  \\end{bmatrix}\n",
    "\\end{equation*}\n"
   ]
  },
  {
   "cell_type": "code",
   "execution_count": 53,
   "metadata": {},
   "outputs": [
    {
     "name": "stdout",
     "output_type": "stream",
     "text": [
      "[[3 2 9]\n",
      " [4 5 3]\n",
      " [1 3 2]]\n",
      "[16 27 25]\n"
     ]
    }
   ],
   "source": [
    "# Mejor podemos usar multiplicación de matrices para hacer mas sencillo el código, a la vez que lo estamos optimizando\n",
    "# Definimos a la función del costo en forma de un vector 1x3\n",
    "funcion = np.array([1,2,5])\n",
    "#MUY IMPORTANTE CHECAR COMO SE CONTRUYE LA MATRIZ, puede que en algunos casos se tenga que transponer\n",
    "carros = np.array([[3,4,1], [2,5,3], [9,3,2]]).T\n",
    "print(carros)\n",
    "# print(np.matmul(carros,funcion))\n",
    "print(np.dot(funcion,carros))"
   ]
  },
  {
   "cell_type": "markdown",
   "metadata": {},
   "source": [
    "<h1>¿Qué es Matplotlib?</h1>\n",
    "<center>\n",
    "<img src = 'https://steemitimages.com/640x0/https://res.cloudinary.com/hpiynhbhq/image/upload/v1521146556/frskntefqfbebukx3l1m.png' alt = 'Matplotlib' width = 330 height = 130 >\n",
    "</center>"
   ]
  },
  {
   "cell_type": "code",
   "execution_count": null,
   "metadata": {},
   "outputs": [],
   "source": [
    "#Importamos Matplotlib\n",
    "import matplotlib.pyplot as plt \n"
   ]
  },
  {
   "cell_type": "markdown",
   "metadata": {},
   "source": [
    "### Pero cómo graficar?\n",
    "Ya que matplotlib es gigantesco, y a lo largo de los años ha crecido en la cantidad de opciones y configuraciones, tenemos 2 formas principales en que podemos definir un gráfico\n",
    "\n",
    "- Orientado a objetos\n",
    "- Estilo Pyplot (Similar a matlab)\n"
   ]
  },
  {
   "cell_type": "code",
   "execution_count": null,
   "metadata": {},
   "outputs": [],
   "source": [
    "#Estilo pyplot\n",
    "x = np.linspace(0,10,2)\n",
    "plt.plot(x,x,'-.go')\n",
    "plt.xlabel('$x$')\n",
    "plt.ylabel('$y$')\n",
    "plt.title('Función lineal')"
   ]
  },
  {
   "cell_type": "code",
   "execution_count": null,
   "metadata": {},
   "outputs": [],
   "source": [
    "#Estilo OO\n",
    "fig, ax = plt.subplots()\n",
    "ax.plot(x,x,'--bs')\n",
    "ax.set_xlabel('$x$')\n",
    "ax.set_ylabel('$y$')\n",
    "ax.set_title('Soy una función lineal')"
   ]
  },
  {
   "cell_type": "markdown",
   "metadata": {},
   "source": [
    "O simplemente usamos plt.plot()"
   ]
  },
  {
   "cell_type": "markdown",
   "metadata": {},
   "source": [
    "<h2>Atributos modificables de una figura</h2>"
   ]
  },
  {
   "cell_type": "markdown",
   "metadata": {},
   "source": [
    "|Caracter|Descripción\n",
    "|-|-\n",
    "|'-'|Línea sólida\n",
    "|'--'|Línea discontinua\n",
    "|'-.'|Línea-Punto\n",
    "|':'|Línea punteada\n",
    "|'o'|Marcador de círculo\n",
    "|'v'|Marcador de trinagulo abajo\n",
    "|'^'|Marcador de trinagulo arriba\n",
    "|'s'|Marcador de cuadrado\n",
    "|'\\*'|Marcador de estrella\n",
    "\n",
    "|Caracter|Color\n",
    "|-|-\n",
    "|'b'|Azul\n",
    "|'g'|Verde\n",
    "|'r'|Rojo\n",
    "|'c'|Cyan\n",
    "|'m'|Magenta\n",
    "|'y'|Amarillo\n",
    "|'k'|Negro\n",
    "|'w'|Blanco"
   ]
  },
  {
   "cell_type": "code",
   "execution_count": null,
   "metadata": {},
   "outputs": [],
   "source": [
    "#Veamos estos atributos en acción con 3 funciones en la misma gráfica\n",
    "x = np.linspace(0, 3, 100)\n",
    "\n",
    "plt.plot(x, x, label='lineal') \n",
    "plt.plot(x, x**2, label='cuadratica') \n",
    "plt.plot(x, x**3, label='cubica')\n",
    "plt.xlabel('x label')\n",
    "plt.ylabel('y label')\n",
    "plt.title(\"Simple Plot\")\n",
    "\n",
    "plt.xticks(np.linspace(0,3,5))\n",
    "plt.yticks(np.linspace(0,27,7))\n",
    "plt.legend()"
   ]
  },
  {
   "cell_type": "markdown",
   "metadata": {},
   "source": [
    "<h2>Un ejemplo rápido usando funciones trigonométricas</h2>"
   ]
  },
  {
   "cell_type": "code",
   "execution_count": null,
   "metadata": {},
   "outputs": [],
   "source": [
    "def f(t):\n",
    "    return np.exp(-t) * np.cos(2*np.pi*t)\n",
    "\n",
    "t1 = np.arange(0.0, 5.0, 0.1)\n",
    "t2 = np.arange(0.0, 5.0, 0.02)\n",
    "\n",
    "plt.figure()\n",
    "plt.subplot(2,1,1)\n",
    "plt.plot(t1, f(t1), 'o--b', t2, f(t2), 'k')\n",
    "\n",
    "plt.subplot(212)\n",
    "plt.plot(t2, np.cos(2*np.pi*t2), 'r--')\n",
    "plt.show()"
   ]
  },
  {
   "cell_type": "code",
   "execution_count": null,
   "metadata": {},
   "outputs": [],
   "source": [
    "x = np.linspace(0,10,200)\n",
    "f = 1\n",
    "sin1 = np.sin((2*np.pi*f*2)*x)\n",
    "sin12 = np.sin((2*np.pi*f*2)*x+np.pi)\n",
    "sin2 = np.sin((2*np.pi*f*1)*x)\n",
    "sin3 = sin1+sin2+sin12\n",
    "plt.figure()\n",
    "plt.subplot(3,1,1)\n",
    "plt.plot(x,sin1,x,sin12)\n",
    "plt.subplot(3,1,2)\n",
    "plt.plot(x,sin2)\n",
    "plt.subplot(3,1,3)\n",
    "plt.plot(x,sin3)\n"
   ]
  },
  {
   "cell_type": "code",
   "execution_count": null,
   "metadata": {},
   "outputs": [],
   "source": [
    "plt.figure()\n",
    "\n",
    "plt.subplot(2,2,1)\n",
    "plt.plot(x,x)\n",
    "plt.subplot(2,2,2)\n",
    "plt.stem(x,x)\n",
    "plt.subplot(2,2,3)\n",
    "plt.plot(x,x)\n",
    "plt.subplot(2,2,4)\n",
    "plt.plot(x,x)\n"
   ]
  },
  {
   "cell_type": "code",
   "execution_count": null,
   "metadata": {},
   "outputs": [],
   "source": [
    "fig , axes = plt.subplots(2,1)\n",
    "x1 = np.linspace(0,1,10)\n",
    "axes[0].stem(x1,x1)\n",
    "axes[1].plot(x1,x1)"
   ]
  },
  {
   "cell_type": "markdown",
   "metadata": {},
   "source": [
    "<h1>¿Qué es Ipywidgets?</h1>\n",
    "<center>\n",
    "<img src = 'https://ipywidgets.readthedocs.io/en/latest/_images/widgets.PNG' alt = 'Ipywidgets' >\n",
    "</center>"
   ]
  },
  {
   "cell_type": "markdown",
   "metadata": {},
   "source": [
    "<p>\n",
    "Los widgets son objetos de Python que reaccionan a eventos, tienen una representación gráfica en el navegador, usualmente en forma de Sliders (controles deslizables), Textboxs (cajas de texto), Botones, etc. Son usados para crear interfaces gráficas en las Jupyter notebooks.  \n",
    "</p>"
   ]
  },
  {
   "cell_type": "markdown",
   "metadata": {},
   "source": [
    "<h2>Declaración</h2>\n",
    "Se necesita primeramente una función para graficar, no necesitamos devolver ningun valor.<br><br>\n",
    "def plotting(valores de los widgets):<br>\n",
    "----code<br>\n",
    "----code<br><br>\n",
    "Posteriormente, para generar el gráfico interactivo, hacemos lo siguiente:<br><br>\n",
    "widgets.interact(plotting, elementos interactivos)<br><br>\n",
    "El primer parametro es la función que construye la figura, y los elementos siguientes son los widgets, estos valores se pasan automaticamente a la función plotting.\n"
   ]
  },
  {
   "cell_type": "markdown",
   "metadata": {},
   "source": [
    "<h2>¡Vamos a hacer un filtro pasabajas!"
   ]
  },
  {
   "cell_type": "markdown",
   "metadata": {},
   "source": [
    "\\begin{equation*}\n",
    "\\Large H(jw) = \\frac {1}{\\sqrt {1 + \\zeta^2 (\\frac {w}{w_{c}})^{2n}}}\n",
    "\\end{equation*}"
   ]
  },
  {
   "cell_type": "code",
   "execution_count": null,
   "metadata": {},
   "outputs": [],
   "source": [
    "#Importamos las librerias necesarias\n",
    "import ipywidgets as widgets\n",
    "from ipywidgets import interact"
   ]
  },
  {
   "cell_type": "code",
   "execution_count": null,
   "metadata": {},
   "outputs": [],
   "source": [
    "#Creamos la función para graficar\n",
    "def osciloscopio(FrecuenciaHz):\n",
    "    w = FrecuenciaHz\n",
    "    n = 2 #Orden del filtro\n",
    "    wc = 2000 #Frecuencia de corte\n",
    "    zeta = 0.707 #Amortigución\n",
    "    xt = np.linspace(- 0.5 * np.pi, 15 * np.pi, 2000)\n",
    "    Voltaje = 5 * np.sin(xt)\n",
    "    Gs = 1 / (1 + zeta**2 * (w/wc)**(2*n) ) ** 0.5  \n",
    "    plt.plot(xt, Voltaje, label = 'Voltaje de entrada')\n",
    "    plt.plot(xt, Voltaje * Gs, label = 'Voltaje de salida')\n",
    "    plt.legend(bbox_to_anchor=(1.05, 1), loc='upper left', borderaxespad=0.) #Localización de las leyendas de las ondas sinusoidales\n",
    "    plt.title('Simulación de osciloscopio')\n",
    "    plt.ylabel('Amplitud [V]')\n",
    "    plt.xlabel('Tiempo [t]')\n",
    "    plt.yticks(np.arange(-5, 6))\n",
    "    plt.show()"
   ]
  },
  {
   "cell_type": "code",
   "execution_count": null,
   "metadata": {},
   "outputs": [],
   "source": [
    "widgets.interact(osciloscopio, \n",
    "            FrecuenciaHz = widgets.IntSlider(min = 100, max = 10000, value = 2000,\n",
    "            style = {'description_width': 'initial'}))"
   ]
  },
  {
   "cell_type": "code",
   "execution_count": null,
   "metadata": {},
   "outputs": [],
   "source": []
  }
 ],
 "metadata": {
  "kernelspec": {
   "display_name": "Python 3",
   "language": "python",
   "name": "python3"
  },
  "language_info": {
   "codemirror_mode": {
    "name": "ipython",
    "version": 3
   },
   "file_extension": ".py",
   "mimetype": "text/x-python",
   "name": "python",
   "nbconvert_exporter": "python",
   "pygments_lexer": "ipython3",
   "version": "3.8.3"
  }
 },
 "nbformat": 4,
 "nbformat_minor": 4
}
