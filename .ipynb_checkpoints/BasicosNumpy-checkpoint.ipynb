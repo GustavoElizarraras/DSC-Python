{
 "cells": [
  {
   "cell_type": "markdown",
   "metadata": {},
   "source": [
    "<h1 style = 'text-align:center'>\n",
    "Bienvenidos al curso de NumPy y Matplotlib (+ Ipywidgets)!\n",
    "</h1>\n",
<<<<<<< HEAD
    "<br/>\n",
    "<center>\n",
    "<img src = 'https://cdn.hashnode.com/res/hashnode/image/upload/v1563888018200/lJaohMmyY.png' alt = 'DSC' height = '350' width = '525'>\n",
=======
    "<center>\n",
    "<img src = 'https://scontent.fmex10-2.fna.fbcdn.net/v/t1.0-9/118343119_113233783831611_9219337719937477698_o.png?_nc_cat=102&_nc_sid=09cbfe&_nc_ohc=R-1ZQ2HIIS8AX8BJJQ-&_nc_ht=scontent.fmex10-2.fna&oh=903d344ae760a69e7fa26e9803825550&oe=5F9AA7D4' alt = 'DSC' height = '350' width = '525'>\n",
>>>>>>> upstream2/master
    "</center>"
   ]
  },
  {
   "cell_type": "markdown",
   "metadata": {},
   "source": [
    "<h1>¿Qué es NumPy?</h1>\n",
    "<center>\n",
    "<img src = 'https://upload.wikimedia.org/wikipedia/commons/thumb/3/31/NumPy_logo_2020.svg/220px-NumPy_logo_2020.svg.png' alt = 'NumPy' >\n",
    "</center>"
   ]
  },
  {
   "cell_type": "markdown",
   "metadata": {},
   "source": [
    "<p>Texto Numpy</p>"
   ]
  },
  {
   "cell_type": "code",
<<<<<<< HEAD
   "execution_count": 4,
=======
   "execution_count": 8,
>>>>>>> upstream2/master
   "metadata": {},
   "outputs": [],
   "source": [
    "#Importamos la libreria NumPy\n",
    "import numpy as np"
   ]
  },
  {
   "cell_type": "markdown",
   "metadata": {},
   "source": [
    "<h2>Métodos de creación de arreglos<h2>"
   ]
  },
  {
<<<<<<< HEAD
   "cell_type": "markdown",
   "metadata": {},
   "source": [
    "<h2>Un poco de álgebra lineal</h2>"
   ]
  },
  {
   "cell_type": "markdown",
   "metadata": {},
   "source": [
    "<h2>Programación vectorial (Vectorization)</h2>\n",
    "<p>\n",
    "La vectorización se refiere a los métodos que intentan eliminar bucles usando otras funciones y operaciones equivalentes. Vamos a ver un pequeño ejemplo, digamos que tenemos un modelo matemático que describe el precio de un coche.\n",
    "</p>\n",
    "\n",
    "\\begin{equation*}\n",
    "  $ = x + 2y + 5z  \n",
    "\\end{equation*}\n",
    "\n",
    "<p>\n",
    "Ahora, imaginemos que queremos calcular el precio de unos 10000 autos, y los datos estuvieran representados con una lista anidada [[x1,y1,y1]...[x10000,y10000,z10000]], si quisieramos calcular el precio de cada uno, usando listas, seria de la siguiente manera:\n",
    "</p>"
   ]
  },
  {
   "cell_type": "code",
   "execution_count": null,
   "metadata": {},
   "outputs": [],
   "source": [
    "# todos_los_carros = [[3,4,1], [2,5,3], [9,3,2]]\n",
    "# precio = []\n",
    "# for uncarro in todos_los_carros:\n",
    "#     a = uncarro[0]\n",
    "#     b = uncarro[1] * 2\n",
    "#     c = uncarro[2] * 5\n",
    "#     precio.append(a+b+c)\n",
    "# print(precio)"
   ]
  },
  {
   "cell_type": "markdown",
   "metadata": {},
   "source": [
    "<p>Usando vectorización, tratamos nuestros datos como matrices, y se llegan a los mismos resultados que con el ciclo for</p>\n",
    "\n",
    "\\begin{equation*}\n",
    "  \\begin{bmatrix}\n",
    "    3 & 2 & 9\\\\\n",
    "    4 & 5 & 3\\\\\n",
    "    1 & 3 & 2\\\\\n",
    "  \\end{bmatrix}\n",
    "  \\times\n",
    "  \\begin{bmatrix}\n",
    "    1\\\\\n",
    "    2\\\\\n",
    "    5\\\\\n",
    "  \\end{bmatrix}\n",
    "\\end{equation*}\n"
=======
   "cell_type": "code",
   "execution_count": 4,
   "metadata": {},
   "outputs": [
    {
     "name": "stdout",
     "output_type": "stream",
     "text": [
      "13.43\n"
     ]
    }
   ],
   "source": [
    "# Escalar #Esto datos pueden ser Int, String ,etc. De eso hablamos mejor en la clase anterior \n",
    "escalar = 13.43\n",
    "print(escalar)"
>>>>>>> upstream2/master
   ]
  },
  {
   "cell_type": "code",
<<<<<<< HEAD
   "execution_count": 5,
=======
   "execution_count": 7,
>>>>>>> upstream2/master
   "metadata": {},
   "outputs": [
    {
     "name": "stdout",
     "output_type": "stream",
     "text": [
<<<<<<< HEAD
      "[[16 27 25]]\n"
=======
      "<class 'float'>\n"
>>>>>>> upstream2/master
     ]
    }
   ],
   "source": [
<<<<<<< HEAD
    "# Mejor podemos usar multiplicación de matrices para hacer mas sencillo el código, a la vez que lo estamos optimizando\n",
    "# Definimos a la función del costo en forma de un vector 1x3\n",
    "funcion = np.array([[1,2,5]])\n",
    "#MUY IMPORTANTE CHECAR COMO SE CONTRUYE LA MATRIZ, puede que en algunos casos se tenga que transponer\n",
    "carros = np.array([[3,4,1], [2,5,3], [9,3,2]]).T \n",
    "print(np.dot(funcion,carros))"
   ]
  },
  {
   "cell_type": "markdown",
   "metadata": {},
   "source": [
    "<h1>¿Qué es Matplotlib?</h1>\n",
    "<center>\n",
    "<img src = 'https://steemitimages.com/640x0/https://res.cloudinary.com/hpiynhbhq/image/upload/v1521146556/frskntefqfbebukx3l1m.png' alt = 'Matplotlib' width = 330 height = 130 >\n",
    "</center>"
=======
    "#Pedir el tipo\n",
    "print(type(escalar))"
>>>>>>> upstream2/master
   ]
  },
  {
   "cell_type": "code",
<<<<<<< HEAD
   "execution_count": 6,
   "metadata": {},
   "outputs": [],
   "source": [
    "#Importamos Matplotlib\n",
    "import matplotlib.pyplot as plt \n"
   ]
  },
  {
   "cell_type": "markdown",
   "metadata": {},
   "source": [
    "### Pero cómo graficar?"
   ]
  },
  {
   "cell_type": "markdown",
   "metadata": {},
   "source": [
    "Ya que matplotlib es gigantesco, y a lo largo de los años ha crecido en la cantidad de opciones y configuraciones, tenemos 2 formas principales en que podemos definir un gráfico\n",
    "\n",
    "- Orientado a objetos\n",
    "- Estilo Pyplot (Similar a matlab)\n"
=======
   "execution_count": 9,
   "metadata": {},
   "outputs": [
    {
     "name": "stdout",
     "output_type": "stream",
     "text": [
      "[1 2 3 4]\n"
     ]
    }
   ],
   "source": [
    "#Los vectores se diferencia por los grados de libertdad que tienen.\n",
    "vector = np.array([1,2,3,4])\n",
    "print(vector)"
>>>>>>> upstream2/master
   ]
  },
  {
   "cell_type": "code",
   "execution_count": 10,
   "metadata": {},
   "outputs": [
    {
<<<<<<< HEAD
     "data": {
      "text/plain": [
       "Text(0.5, 1.0, 'Función lineal')"
      ]
     },
     "execution_count": 10,
     "metadata": {},
     "output_type": "execute_result"
    },
    {
     "data": {
      "image/png": "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\n",
      "text/plain": [
       "<Figure size 432x288 with 1 Axes>"
      ]
     },
     "metadata": {
      "needs_background": "light"
     },
     "output_type": "display_data"
    }
   ],
   "source": [
    "x = np.linspace(0,10,2)\n",
    "plt.plot(x,x,'-.go')\n",
    "plt.xlabel('$x$')\n",
    "plt.ylabel('$y$')\n",
    "plt.title('Función lineal')"
=======
     "name": "stdout",
     "output_type": "stream",
     "text": [
      "[[1 2 3]\n",
      " [4 5 6]\n",
      " [7 8 9]]\n"
     ]
    }
   ],
   "source": [
    "matriz = np.array([[1,2,3],[4,5,6],[7,8,9]])\n",
    "print(matriz)"
>>>>>>> upstream2/master
   ]
  },
  {
   "cell_type": "code",
<<<<<<< HEAD
   "execution_count": 8,
=======
   "execution_count": 16,
>>>>>>> upstream2/master
   "metadata": {},
   "outputs": [
    {
     "name": "stdout",
     "output_type": "stream",
     "text": [
<<<<<<< HEAD
      "[ 0. 10.]\n"
     ]
    },
    {
     "data": {
      "image/png": "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\n",
=======
      "[[[255   0   0]\n",
      "  [  0 255   0]\n",
      "  [  0   0 255]]\n",
      "\n",
      " [[  0   0   0]\n",
      "  [  0   0   0]\n",
      "  [  0   0   0]]\n",
      "\n",
      " [[128 128 128]\n",
      "  [128 128 128]\n",
      "  [128 128 128]]]\n"
     ]
    }
   ],
   "source": [
    "tensor = np.array([\n",
    "    [[255,0,0],[0,255,0],[0,0,255]],\n",
    "    [[0,0,0],[0,0,0],[0,0,0]],\n",
    "    [[128,128,128],[128,128,128],[128,128,128]],\n",
    "    ])\n",
    "print(tensor)"
   ]
  },
  {
   "cell_type": "code",
   "execution_count": 17,
   "metadata": {},
   "outputs": [],
   "source": [
    "%matplotlib inline\n",
    "\n",
    "import matplotlib.pyplot as plt"
   ]
  },
  {
   "cell_type": "code",
   "execution_count": 18,
   "metadata": {},
   "outputs": [
    {
     "data": {
      "image/png": "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\n",
>>>>>>> upstream2/master
      "text/plain": [
       "<Figure size 432x288 with 1 Axes>"
      ]
     },
     "metadata": {
      "needs_background": "light"
     },
     "output_type": "display_data"
    }
   ],
   "source": [
<<<<<<< HEAD
    "fig, ax = plt.subplots()\n",
    "ax.plot(x,x,'--bs')\n",
    "ax.set_xlabel('$x$')\n",
    "ax.set_ylabel('$y$')\n",
    "ax.set_title('Soy una función lineal')\n",
    "print(x)"
=======
    "plt.imshow(tensor, interpolation='nearest')\n",
    "plt.show()"
>>>>>>> upstream2/master
   ]
  },
  {
   "cell_type": "markdown",
   "metadata": {},
   "source": [
<<<<<<< HEAD
    "O simplemente usamos plt.plot()"
=======
    "<img src= 'https://miro.medium.com/max/891/0*jGB1CGQ9HdeUwlgB'>"
>>>>>>> upstream2/master
   ]
  },
  {
   "cell_type": "markdown",
   "metadata": {},
   "source": [
<<<<<<< HEAD
    "<h2>Atributos modificables de una figura</h2>"
   ]
  },
  {
   "cell_type": "markdown",
   "metadata": {},
   "source": [
    "|Caracter|Descripción\n",
    "|-|-\n",
    "|'-'|Línea sólida\n",
    "|'--'|Línea discontinua\n",
    "|'-.'|Línea-Punto\n",
    "|':'|Línea punteada\n",
    "|'o'|Marcador de círculo\n",
    "|'v'|Marcador de trinagulo abajo\n",
    "|'^'|Marcador de trinagulo arriba\n",
    "|'s'|Marcador de cuadrado\n",
    "|'\\*'|Marcador de estrella\n",
    "\n",
    "|Caracter|Color\n",
    "|-|-\n",
    "|'b'|Azul\n",
    "|'g'|Verde\n",
    "|'r'|Rojo\n",
    "|'c'|Cyan\n",
    "|'m'|Magenta\n",
    "|'y'|Amarillo\n",
    "|'k'|Negro\n",
    "|'w'|Blanco"
=======
    "<h3>Los vectores tienen metodos ya definidos </h3>\n"
   ]
  },
  {
   "cell_type": "code",
   "execution_count": 20,
   "metadata": {},
   "outputs": [],
   "source": [
    "#escalar.shepe()"
>>>>>>> upstream2/master
   ]
  },
  {
   "cell_type": "code",
<<<<<<< HEAD
   "execution_count": 11,
=======
   "execution_count": 24,
>>>>>>> upstream2/master
   "metadata": {},
   "outputs": [
    {
     "data": {
      "text/plain": [
<<<<<<< HEAD
       "<matplotlib.legend.Legend at 0x210cbf16b50>"
      ]
     },
     "execution_count": 11,
     "metadata": {},
     "output_type": "execute_result"
    },
    {
     "data": {
      "image/png": "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\n",
      "text/plain": [
       "<Figure size 432x288 with 1 Axes>"
      ]
     },
     "metadata": {
      "needs_background": "light"
     },
     "output_type": "display_data"
    }
   ],
   "source": [
    "x = np.linspace(0, 3, 100)\n",
    "\n",
    "plt.plot(x, x, label='lineal') \n",
    "plt.plot(x, x**2, label='cuadratica') \n",
    "plt.plot(x, x**3, label='cubica')\n",
    "plt.xlabel('x label')\n",
    "plt.ylabel('y label')\n",
    "plt.title(\"Simple Plot\")\n",
    "\n",
    "plt.xticks(np.linspace(0,3,5))\n",
    "plt.yticks(np.linspace(0,27,7))\n",
    "plt.legend()"
   ]
  },
  {
   "cell_type": "markdown",
   "metadata": {},
   "source": [
    "<h2>Un ejemplo rápido usando funciones trigonométricas</h2>"
=======
       "(4,)"
      ]
     },
     "execution_count": 24,
     "metadata": {},
     "output_type": "execute_result"
    }
   ],
   "source": [
    "vector.shape"
>>>>>>> upstream2/master
   ]
  },
  {
   "cell_type": "code",
<<<<<<< HEAD
   "execution_count": 13,
=======
   "execution_count": 25,
>>>>>>> upstream2/master
   "metadata": {},
   "outputs": [
    {
     "data": {
<<<<<<< HEAD
      "image/png": "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\n",
      "text/plain": [
       "<Figure size 432x288 with 2 Axes>"
      ]
     },
     "metadata": {
      "needs_background": "light"
     },
     "output_type": "display_data"
    }
   ],
   "source": [
    "def f(t):\n",
    "    return np.exp(-t) * np.cos(2*np.pi*t)\n",
    "\n",
    "t1 = np.arange(0.0, 5.0, 0.1)\n",
    "t2 = np.arange(0.0, 5.0, 0.02)\n",
    "\n",
    "plt.figure()\n",
    "plt.subplot(211)\n",
    "plt.plot(t1, f(t1), 'o--b', t2, f(t2), 'k')\n",
    "\n",
    "plt.subplot(212)\n",
    "plt.plot(t2, np.cos(2*np.pi*t2), 'r--')\n",
    "plt.show()"
=======
      "text/plain": [
       "(3, 3)"
      ]
     },
     "execution_count": 25,
     "metadata": {},
     "output_type": "execute_result"
    }
   ],
   "source": [
    "matriz.shape"
>>>>>>> upstream2/master
   ]
  },
  {
   "cell_type": "code",
<<<<<<< HEAD
   "execution_count": 35,
=======
   "execution_count": 27,
>>>>>>> upstream2/master
   "metadata": {},
   "outputs": [
    {
     "data": {
      "text/plain": [
<<<<<<< HEAD
       "[<matplotlib.lines.Line2D at 0x210ce92b760>]"
      ]
     },
     "execution_count": 35,
     "metadata": {},
     "output_type": "execute_result"
    },
    {
     "data": {
      "image/png": "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\n",
      "text/plain": [
       "<Figure size 432x288 with 3 Axes>"
      ]
     },
     "metadata": {
      "needs_background": "light"
     },
     "output_type": "display_data"
    }
   ],
   "source": [
    "x = np.linspace(0,10,200)\n",
    "f = 1\n",
    "sin1 = np.sin((2*np.pi*f*2)*x)\n",
    "sin12 = np.sin((2*np.pi*f*2)*x+np.pi)\n",
    "sin2 = np.sin((2*np.pi*f*1)*x)\n",
    "sin3 = sin1+sin2+sin12\n",
    "plt.figure()\n",
    "plt.subplot(3,1,1)\n",
    "plt.plot(x,sin1,x,sin12)\n",
    "plt.subplot(3,1,2)\n",
    "plt.plot(x,sin2)\n",
    "plt.subplot(3,1,3)\n",
    "plt.plot(x,sin3)\n"
=======
       "(3, 3, 3)"
      ]
     },
     "execution_count": 27,
     "metadata": {},
     "output_type": "execute_result"
    }
   ],
   "source": [
    "tensor.shape"
>>>>>>> upstream2/master
   ]
  },
  {
   "cell_type": "code",
<<<<<<< HEAD
   "execution_count": 34,
=======
   "execution_count": 28,
>>>>>>> upstream2/master
   "metadata": {},
   "outputs": [
    {
     "data": {
      "text/plain": [
<<<<<<< HEAD
       "[<matplotlib.lines.Line2D at 0x210ce83b880>]"
      ]
     },
     "execution_count": 34,
     "metadata": {},
     "output_type": "execute_result"
    },
    {
     "data": {
      "image/png": "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\n",
      "text/plain": [
       "<Figure size 432x288 with 4 Axes>"
      ]
     },
     "metadata": {
      "needs_background": "light"
     },
     "output_type": "display_data"
    }
   ],
   "source": [
    "plt.figure()\n",
    "\n",
    "plt.subplot(2,2,1)\n",
    "plt.plot(x,x)\n",
    "plt.subplot(2,2,2)\n",
    "plt.stem(x,x)\n",
    "plt.subplot(2,2,3)\n",
    "plt.plot(x,x)\n",
    "plt.subplot(2,2,4)\n",
    "plt.plot(x,x)\n"
=======
       "4"
      ]
     },
     "execution_count": 28,
     "metadata": {},
     "output_type": "execute_result"
    }
   ],
   "source": [
    "vector.size"
>>>>>>> upstream2/master
   ]
  },
  {
   "cell_type": "code",
<<<<<<< HEAD
   "execution_count": 39,
=======
   "execution_count": 29,
>>>>>>> upstream2/master
   "metadata": {},
   "outputs": [
    {
     "data": {
      "text/plain": [
<<<<<<< HEAD
       "[<matplotlib.lines.Line2D at 0x210d0d90a90>]"
      ]
     },
     "execution_count": 39,
     "metadata": {},
     "output_type": "execute_result"
    },
    {
     "data": {
      "image/png": "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\n",
      "text/plain": [
       "<Figure size 432x288 with 2 Axes>"
      ]
     },
     "metadata": {
      "needs_background": "light"
     },
     "output_type": "display_data"
    }
   ],
   "source": [
    "fig , axes = plt.subplots(2,1)\n",
    "x1 = np.linspace(0,1,10)\n",
    "axes[0].stem(x1,x1)\n",
    "axes[1].plot(x1,x1)"
=======
       "9"
      ]
     },
     "execution_count": 29,
     "metadata": {},
     "output_type": "execute_result"
    }
   ],
   "source": [
    "matriz.size"
   ]
  },
  {
   "cell_type": "code",
   "execution_count": 30,
   "metadata": {},
   "outputs": [
    {
     "data": {
      "text/plain": [
       "27"
      ]
     },
     "execution_count": 30,
     "metadata": {},
     "output_type": "execute_result"
    }
   ],
   "source": [
    "tensor.size"
>>>>>>> upstream2/master
   ]
  },
  {
   "cell_type": "markdown",
   "metadata": {},
   "source": [
<<<<<<< HEAD
    "<h2>Vamos a hacer una figura con 3 subplots</h2>"
   ]
  },
  {
   "cell_type": "markdown",
   "metadata": {},
   "source": [
    "<h1>¿Qué es Ipywidgets?</h1>\n",
    "<center>\n",
    "<img src = 'https://ipywidgets.readthedocs.io/en/latest/_images/widgets.PNG' alt = 'Ipywidgets' >\n",
    "</center>"
=======
    "<h3>Funcion de transpuesta </h3>"
   ]
  },
  {
   "cell_type": "code",
   "execution_count": 37,
   "metadata": {},
   "outputs": [
    {
     "name": "stdout",
     "output_type": "stream",
     "text": [
      "[[1 4 7]\n",
      " [2 5 8]\n",
      " [3 6 9]]\n",
      "******************************\n",
      "[[1 2 3]\n",
      " [4 5 6]\n",
      " [7 8 9]]\n"
     ]
    }
   ],
   "source": [
    "la_t = matriz.T\n",
    "print(la_t)\n",
    "print('***'*10)\n",
    "print(matriz)"
>>>>>>> upstream2/master
   ]
  },
  {
   "cell_type": "markdown",
   "metadata": {},
   "source": [
<<<<<<< HEAD
    "<p>\n",
    "Los widgets son objetos de Python que reaccionan a eventos, tienen una representación gráfica en el navegador, usualmente en forma de Sliders (controles deslizables), Textboxs (cajas de texto), Botones, etc. Son usados para crear interfaces gráficas en las Jupyter notebooks.  \n",
    "</p>"
=======
    "<h2>Un poco de álgebra lineal</h2>"
>>>>>>> upstream2/master
   ]
  },
  {
   "cell_type": "markdown",
   "metadata": {},
   "source": [
<<<<<<< HEAD
    "<h2>Declaración</h2>\n",
    "Se necesita primeramente una función para graficar, no necesitamos devolver ningun valor.<br><br>\n",
    "def plotting(valores de los widgets):<br>\n",
    "----code<br>\n",
    "----code<br><br>\n",
    "Posteriormente, para generar el gráfico interactivo, hacemos lo siguiente:<br><br>\n",
    "_ = widgets.interact(plotting, elementos interactivos)<br><br>\n",
    "El primer parametro es la función que construye la figura, y los elementos siguientes son los widgets, estos valores se pasan automaticamente a la función plotting.\n"
=======
    "<h3> Suma de matrices </h3>"
>>>>>>> upstream2/master
   ]
  },
  {
   "cell_type": "markdown",
   "metadata": {},
   "source": [
<<<<<<< HEAD
    "<h2>¡Vamos a hacer un filtro pasabajas!"
   ]
  },
  {
   "cell_type": "markdown",
   "metadata": {},
   "source": [
    "\\begin{equation*}\n",
    "\\Large H(jw) = \\frac {1}{\\sqrt {1 + \\zeta^2 (\\frac {w}{w_{c}})^{2n}}}\n",
    "\\end{equation*}"
=======
    "<img src = \"https://encrypted-tbn0.gstatic.com/images?q=tbn%3AANd9GcQK1eHDso1bc2LePHwZAdR2U2zaQ9OHBvUoQQ&usqp=CAU\" >"
   ]
  },
  {
   "cell_type": "code",
   "execution_count": 40,
   "metadata": {},
   "outputs": [
    {
     "name": "stdout",
     "output_type": "stream",
     "text": [
      "[[2 0 1]\n",
      " [3 0 0]\n",
      " [5 1 1]]\n"
     ]
    }
   ],
   "source": [
    "#Creando A\n",
    "A = np.array([[2,0,1],[3,0,0],[5,1,1]])\n",
    "print(A)"
>>>>>>> upstream2/master
   ]
  },
  {
   "cell_type": "code",
<<<<<<< HEAD
   "execution_count": 43,
   "metadata": {},
   "outputs": [],
   "source": [
    "#Importamos las librerias necesarias\n",
    "import ipywidgets as widgets\n",
    "from ipywidgets import interact"
=======
   "execution_count": 41,
   "metadata": {},
   "outputs": [
    {
     "name": "stdout",
     "output_type": "stream",
     "text": [
      "[[1 0 1]\n",
      " [1 2 1]\n",
      " [1 1 0]]\n"
     ]
    }
   ],
   "source": [
    "#Creando B\n",
    "B = np.array([[1,0,1],[1,2,1],[1,1,0]])\n",
    "print(B)"
>>>>>>> upstream2/master
   ]
  },
  {
   "cell_type": "code",
   "execution_count": 44,
   "metadata": {},
<<<<<<< HEAD
   "outputs": [],
   "source": [
    "#Creamos la función para graficar\n",
    "def osciloscopio(FrecuenciaHz):\n",
    "    w = FrecuenciaHz\n",
    "    n = 2 #Orden del filtro\n",
    "    wc = 2000 #Frecuencia de corte\n",
    "    zeta = 0.707 #Amortigución\n",
    "    xt = np.linspace(- 0.5 * np.pi, 15 * np.pi, 2000)\n",
    "    Voltaje = 5 * np.sin(xt)\n",
    "    Gs = 1 / (1 + zeta**2 * (w/wc)**(2*n) ) ** 0.5  \n",
    "    plt.plot(xt, Voltaje, label = 'Voltaje de entrada')\n",
    "    plt.plot(xt, Voltaje * Gs, label = 'Voltaje de salida')\n",
    "    plt.legend(bbox_to_anchor=(1.05, 1), loc='upper left', borderaxespad=0.) #Localización de las leyendas de las ondas sinusoidales\n",
    "    plt.title('Simulación de osciloscopio')\n",
    "    plt.ylabel('Amplitud [V]')\n",
    "    plt.xlabel('Tiempo [t]')\n",
    "    plt.yticks(np.arange(-5, 6))\n",
    "    plt.show()"
   ]
  },
  {
   "cell_type": "code",
   "execution_count": 45,
   "metadata": {},
   "outputs": [
    {
     "data": {
      "application/vnd.jupyter.widget-view+json": {
       "model_id": "e5afe9bf370842389b9fc4390c304ba1",
       "version_major": 2,
       "version_minor": 0
      },
      "text/plain": [
       "interactive(children=(IntSlider(value=2000, description='FrecuenciaHz', max=10000, min=100, style=SliderStyle(…"
      ]
     },
     "metadata": {},
     "output_type": "display_data"
    }
   ],
   "source": [
    "_ = widgets.interact(osciloscopio, \n",
    "            FrecuenciaHz = widgets.IntSlider(min = 100, max = 10000, value = 2000,\n",
    "            style = {'description_width': 'initial'}))"
=======
   "outputs": [
    {
     "name": "stdout",
     "output_type": "stream",
     "text": [
      "[[3 0 2]\n",
      " [4 2 1]\n",
      " [6 2 1]]\n"
     ]
    }
   ],
   "source": [
    "#Haciendo la Suma\n",
    "C = A + B \n",
    "print(C)"
   ]
  },
  {
   "cell_type": "markdown",
   "metadata": {},
   "source": [
    "<h2>Programación vectorial (Vectorization)</h2>\n",
    "<p>\n",
    "La vectorización se refiere a los métodos que intentan eliminar bucles usando otras funciones y operaciones equivalentes. Vamos a ver un pequeño ejemplo, digamos que tenemos un modelo matemático que describe el precio de un coche.\n",
    "</p>\n",
    "\\begin{equation*}\n",
    "  $ = x + 2y + 5z  \n",
    "\\end{equation*}\n",
    "<p>\n",
    "Ahora, imaginemos que queremos calcular el precio de unos 10000 autos, y los datos estuvieran representados con una lista anidada [[x1,y1,y1]...[x10000,y10000,z10000]], si quisieramos calcular el precio de cada uno, usando listas, seria de la siguiente manera:\n",
    "</p>"
>>>>>>> upstream2/master
   ]
  },
  {
   "cell_type": "code",
   "execution_count": null,
   "metadata": {},
   "outputs": [],
   "source": [
    "# todos_los_carros = [[3,4,1], [2,5,3], [9,3,2]]\n",
    "# precio = []\n",
    "# for uncarro in todos_los_carros:\n",
    "#     a = uncarro[0]\n",
    "#     b = uncarro[1] * 2\n",
    "#     c = uncarro[2] * 5\n",
    "#     precio.append(a+b+c)\n",
    "# print(precio)"
   ]
  },
  {
   "cell_type": "markdown",
   "metadata": {},
   "source": [
    "<p>Usando vectorización, tratamos nuestros datos como matrices, y se llegan a los mismos resultados que con el ciclo for</p>\n",
    "\\begin{equation*}\n",
    "  \\begin{bmatrix}\n",
    "    3 & 2 & 9\\\\\n",
    "    4 & 5 & 3\\\\\n",
    "    1 & 3 & 2\\\\\n",
    "  \\end{bmatrix}\n",
    "  \\times\n",
    "  \\begin{bmatrix}\n",
    "    1\\\\\n",
    "    2\\\\\n",
    "    5\\\\\n",
    "    \n",
    "  \\end{bmatrix}\n",
    "\\end{equation*}\n"
   ]
  },
  {
   "cell_type": "code",
   "execution_count": null,
   "metadata": {},
   "outputs": [],
   "source": [
    "# Mejor podemos usar multiplicación de matrices para hacer mas sencillo el código, a la vez que lo estamos optimizando\n",
    "# Definimos a la función del costo en forma de un vector 1x3\n",
    "funcion = np.array([[1,2,5]])\n",
    "#MUY IMPORTANTE CHECAR COMO SE CONTRUYE LA MATRIZ, puede que en algunos casos se tenga que transponer\n",
    "carros = np.array([[3,4,1], [2,5,3], [9,3,2]]).T \n",
    "print(np.dot(funcion,carros))"
   ]
  },
  {
   "cell_type": "markdown",
   "metadata": {},
   "source": [
    "<h1>¿Qué es Matplotlib?</h1>\n",
    "<center>\n",
    "<img src = 'https://steemitimages.com/640x0/https://res.cloudinary.com/hpiynhbhq/image/upload/v1521146556/frskntefqfbebukx3l1m.png' alt = 'Matplotlib' width = 330 height = 130 >\n",
    "</center>"
   ]
  },
  {
   "cell_type": "markdown",
   "metadata": {},
   "source": [
    "<p>Texto Matplotlib</p>"
   ]
  },
  {
   "cell_type": "code",
   "execution_count": null,
   "metadata": {},
   "outputs": [],
   "source": [
    "#Importamos Matplotlib\n",
    "import matplotlib.pyplot as plt \n"
   ]
  },
  {
   "cell_type": "markdown",
   "metadata": {},
   "source": [
    "<h2>Atributos modificables de una figura</h2>"
   ]
  },
  {
   "cell_type": "markdown",
   "metadata": {},
   "source": [
    "<h2>Un ejemplo rápido usando funciones trigonométricas</h2>"
   ]
  },
  {
   "cell_type": "markdown",
   "metadata": {},
   "source": [
    "<h2>Vamos a hacer una figura con 3 subplots</h2>"
   ]
  },
  {
   "cell_type": "markdown",
   "metadata": {},
   "source": [
    "<h1>¿Qué es Ipywidgets?</h1>\n",
    "<center>\n",
    "<img src = 'https://ipywidgets.readthedocs.io/en/latest/_images/widgets.PNG' alt = 'Ipywidgets' >\n",
    "</center>"
   ]
  },
  {
   "cell_type": "markdown",
   "metadata": {},
   "source": [
    "<p>\n",
    "Los widgets son objetos de Python que reaccionan a eventos, tienen una representación gráfica en el navegador, usualmente en forma de Sliders (controles deslizables), Textboxs (cajas de texto), Botones, etc. Son usados para crear interfaces gráficas en las Jupyter notebooks.  \n",
    "</p>"
   ]
  },
  {
   "cell_type": "markdown",
   "metadata": {},
   "source": [
    "<h2>Declaración</h2>\n",
    "Se necesita primeramente una función para graficar, no necesitamos devolver ningun valor.<br><br>\n",
    "def plotting(valores de los widgets):<br>\n",
    "----code<br>\n",
    "----code<br><br>\n",
    "Posteriormente, para generar el gráfico interactivo, hacemos lo siguiente:<br><br>\n",
    "_ = widgets.interact(plotting, elementos interactivos)<br><br>\n",
    "El primer parametro es la función que construye la figura, y los elementos siguientes son los widgets, estos valores se pasan automaticamente a la función plotting.\n"
   ]
  },
  {
   "cell_type": "markdown",
   "metadata": {},
   "source": [
    "<h2>¡Vamos a hacer un filtro pasabajas!"
   ]
  },
  {
   "cell_type": "markdown",
   "metadata": {},
   "source": [
    "\\begin{equation*}\n",
    "\\Large H(jw) = \\frac {1}{\\sqrt {1 + \\zeta^2 (\\frac {w}{w_{c}})^{2n}}}\n",
    "\\end{equation*}"
   ]
  },
  {
   "cell_type": "code",
   "execution_count": null,
   "metadata": {},
   "outputs": [],
   "source": [
    "#Importamos las librerias necesarias\n",
    "import ipywidgets as widgets\n",
    "from ipywidgets import interact"
   ]
  },
  {
   "cell_type": "code",
   "execution_count": null,
   "metadata": {},
   "outputs": [],
   "source": [
    "#Creamos la función para graficar\n",
    "def osciloscopio(FrecuenciaHz):\n",
    "    w = FrecuenciaHz\n",
    "    n = 2 #Orden del filtro\n",
    "    wc = 2000 #Frecuencia de corte\n",
    "    zeta = 0.707 #Amortigución\n",
    "    xt = np.linspace(- 0.5 * np.pi, 15 * np.pi, 2000)\n",
    "    Voltaje = 5 * np.sin(xt)\n",
    "    Gs = 1 / (1 + zeta**2 * (w/wc)**(2*n) ) ** 0.5  \n",
    "    plt.plot(xt, Voltaje, label = 'Voltaje de entrada')\n",
    "    plt.plot(xt, Voltaje * Gs, label = 'Voltaje de salida')\n",
    "    plt.legend(bbox_to_anchor=(1.05, 1), loc='upper left', borderaxespad=0.) #Localización de las leyendas de las ondas sinusoidales\n",
    "    plt.title('Simulación de osciloscopio')\n",
    "    plt.ylabel('Amplitud [V]')\n",
    "    plt.xlabel('Tiempo [t]')\n",
    "    plt.yticks(np.arange(-5, 6))\n",
    "    plt.show()"
   ]
  },
  {
   "cell_type": "code",
   "execution_count": null,
   "metadata": {},
   "outputs": [],
   "source": [
    "_ = widgets.interact(osciloscopio, \n",
    "            FrecuenciaHz = widgets.IntSlider(min = 100, max = 10000, value = 2000,\n",
    "            style = {'description_width': 'initial'}))"
   ]
  }
 ],
 "metadata": {
  "kernelspec": {
   "display_name": "Python 3",
   "language": "python",
   "name": "python3"
  },
  "language_info": {
   "codemirror_mode": {
    "name": "ipython",
    "version": 3
   },
   "file_extension": ".py",
   "mimetype": "text/x-python",
   "name": "python",
   "nbconvert_exporter": "python",
   "pygments_lexer": "ipython3",
   "version": "3.8.5"
  }
 },
 "nbformat": 4,
 "nbformat_minor": 4
}
