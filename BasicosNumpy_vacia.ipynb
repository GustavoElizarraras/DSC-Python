{
 "cells": [
  {
   "cell_type": "markdown",
   "metadata": {},
   "source": [
    "<h1 style = 'text-align:center'>\n",
    "Bienvenidos al curso de NumPy y Matplotlib (+ Ipywidgets)!\n",
    "</h1>\n",
    "<br/>\n",
    "<center>\n",
    "<img src = 'https://cdn.hashnode.com/res/hashnode/image/upload/v1563888018200/lJaohMmyY.png' alt = 'DSC' height = '250' width = '525'>\n",
    "</center>"
   ]
  },
  {
   "cell_type": "markdown",
   "metadata": {},
   "source": [
    "<h1>¿Qué es NumPy?</h1>\n",
    "<center>\n",
    "<img src = 'https://upload.wikimedia.org/wikipedia/commons/thumb/3/31/NumPy_logo_2020.svg/220px-NumPy_logo_2020.svg.png' alt = 'NumPy' >\n",
    "</center>"
   ]
  },
  {
   "cell_type": "markdown",
   "metadata": {},
   "source": [
    "<h3>NumPy es un paquete de Python que significa “Numerical Python”, es la librería principal para la informática científica, proporciona potentes estructuras de datos, implementando matrices y matrices multidimensionales. Estas estructuras de datos garantizan cálculos eficientes con matrices.</h3>"
   ]
  },
  {
   "cell_type": "code",
   "execution_count": null,
   "metadata": {},
   "outputs": [],
   "source": [
    "#Importamos la libreria NumPy\n",
    "import numpy as np"
   ]
  },
  {
   "cell_type": "markdown",
   "metadata": {},
   "source": [
    "<h2> Ejemplo de la diferencia de usar Numpy en tiempo de ejecucion </h2>"
   ]
  },
  {
   "cell_type": "code",
   "execution_count": null,
   "metadata": {},
   "outputs": [],
   "source": [
    "#Mostraremos el tiempo de ejecucion de un lista cuando cada terminino se multiplica al cuadrado con List Comprehension\n",
    "L = range(1000)\n",
    "%timeit [i**2 for i in L]"
   ]
  },
  {
   "cell_type": "code",
   "execution_count": null,
   "metadata": {},
   "outputs": [],
   "source": [
    "#Se mostrara en tiempo de ejecucion el elevar al cuadrado cada termino con un arreglo creado en numpy\n",
    "a = np.arange(1000)\n",
    "%timeit a**2"
   ]
  },
  {
   "cell_type": "markdown",
   "metadata": {},
   "source": [
    "<h2>Métodos de creación de arreglos<h2>\n",
    "<h3>Uniformemente espaciados</h3>"
   ]
  },
  {
   "cell_type": "code",
   "execution_count": null,
   "metadata": {},
   "outputs": [],
   "source": [
    "#Una de las formas de crear arreglos es la siguiente\n",
    "nuevo_rango = np.arange(10)\n",
    "print(nuevo_rango)"
   ]
  },
  {
   "cell_type": "code",
   "execution_count": null,
   "metadata": {},
   "outputs": [],
   "source": [
    "#Es muy parecido a como crerar arreglos en matlab\n",
    "rango_c_espacio = np.arange(1, 40, 2) #Inicio , #Final, #Pasos\n",
    "print(rango_c_espacio)\n"
   ]
  },
  {
   "cell_type": "markdown",
   "metadata": {},
   "source": [
    "<h3>Por numero de puntos</h3>"
   ]
  },
  {
   "cell_type": "code",
   "execution_count": null,
   "metadata": {},
   "outputs": [],
   "source": [
    "#Otra de las formas de crear los arreglos es cuando ya sabes el número de puntos necesarios para el muestreo \n",
    "%matplotlib inline\n",
    "por_muestreo = np.linspace(0, 2*np.pi,100 )   # inicio, final, número de puntos\n",
    "print(por_muestreo)\n",
    "y = np.sin(por_muestreo)\n",
    "#Spoiler alert\n",
    "import matplotlib.pyplot as plt\n",
    "plt.plot(por_muestreo,y)\n",
    "plt.show()"
   ]
  },
  {
   "cell_type": "code",
   "execution_count": null,
   "metadata": {},
   "outputs": [],
   "source": [
    "#Cuando agregas el parametro endpoint en false , lo que hara es hacer ese número de pasos sin tocar el punto final\n",
    "por_mues_abierto = np.linspace(0, 2*np.pi,5,endpoint=False )\n",
    "print(por_mues_abierto) "
   ]
  },
  {
   "cell_type": "markdown",
   "metadata": {},
   "source": [
    "<h3> Arreglos comunes</h3>"
   ]
  },
  {
   "cell_type": "code",
   "execution_count": null,
   "metadata": {},
   "outputs": [],
   "source": [
    "#Crear un arreglo con la forma de la tupla que le demos llena de unos\n",
    "_unos = np.ones((3,3))\n",
    "print(_unos)                                  "
   ]
  },
  {
   "cell_type": "code",
   "execution_count": null,
   "metadata": {},
   "outputs": [],
   "source": [
    "#Crear un arreglo con la forma de la tupla que le demos llena de ceros\n",
    "_ceros = np.zeros((2,2))\n",
    "print(_ceros)"
   ]
  },
  {
   "cell_type": "code",
   "execution_count": null,
   "metadata": {},
   "outputs": [],
   "source": [
    "#Crear una matriz identidad\n",
    "_vector = np.eye(3)\n",
    "print(_vector)\n"
   ]
  },
  {
   "cell_type": "code",
   "execution_count": null,
   "metadata": {},
   "outputs": [],
   "source": [
    "#Creando una matriz con valores personalizados en la diagonal\n",
    "diagonal = np.diag(np.array([11, 10, 9, 8]))\n",
    "print(diagonal)"
   ]
  },
  {
   "cell_type": "markdown",
   "metadata": {},
   "source": [
    "<h3>Números aleatorios </h3>"
   ]
  },
  {
   "cell_type": "code",
   "execution_count": null,
   "metadata": {},
   "outputs": [],
   "source": [
    "#Números pseudoaleatorios del [0 1] \n",
    "aleatorios = np.random.rand(4) \n",
    "print(aleatorios) "
   ]
  },
  {
   "cell_type": "code",
   "execution_count": null,
   "metadata": {},
   "outputs": [],
   "source": [
    "#Numeros seudoaleatorios gaussianos \n",
    "gaussianos = np.random.randn(10) \n",
    "print(gaussianos)"
   ]
  },
  {
   "cell_type": "markdown",
   "metadata": {},
   "source": [
    "<h1>Diferencias entre tipos de datos </h1>"
   ]
  },
  {
   "cell_type": "code",
   "execution_count": null,
   "metadata": {},
   "outputs": [],
   "source": [
    "# Escalar, estos datos pueden ser Int, String ,etc. De eso hablamos mejor en la clase anterior \n",
    "escalar = 13.43\n",
    "print(escalar)"
   ]
  },
  {
   "cell_type": "code",
   "execution_count": null,
   "metadata": {},
   "outputs": [],
   "source": [
    "#Pedir el tipo\n",
    "print(type(escalar))"
   ]
  },
  {
   "cell_type": "code",
   "execution_count": null,
   "metadata": {},
   "outputs": [],
   "source": [
    "#Los vectores se diferencia por los grados de libertdad que tienen.\n",
    "vector = np.array([1,2,3,4])\n",
    "print(vector.shape)\n",
    "print(vector[0:3:2])"
   ]
  },
  {
   "cell_type": "code",
   "execution_count": null,
   "metadata": {},
   "outputs": [],
   "source": [
    "#Podemos crear matrices, en este caso una\n",
    "matriz = np.array([[1,2,3],[4,5,6],[7,8,9]])\n",
    "print(matriz)"
   ]
  },
  {
   "cell_type": "code",
   "execution_count": null,
   "metadata": {},
   "outputs": [],
   "source": [
    "#Un tensor\n",
    "tensor = np.array([\n",
    "        [[158,222,222],[0,0,120]],\n",
    "        [[0,0,120],[255,0,120]],\n",
    "        ])\n",
    "print(tensor.shape)"
   ]
  },
  {
   "cell_type": "code",
   "execution_count": null,
   "metadata": {},
   "outputs": [],
   "source": [
    "%matplotlib inline\n",
    "import matplotlib.pyplot as plt"
   ]
  },
  {
   "cell_type": "code",
   "execution_count": null,
   "metadata": {},
   "outputs": [],
   "source": [
    "#Que tal si mostramos el tensor como un a imagen?\n",
    "plt.imshow(tensor)\n",
    "plt.show()"
   ]
  },
  {
   "cell_type": "markdown",
   "metadata": {},
   "source": [
    "<h2>Una forma de visualizar los tensores</h2>\n",
    "<center><img src= 'https://miro.medium.com/max/891/0*jGB1CGQ9HdeUwlgB' width = 500 height = 300></center>"
   ]
  },
  {
   "cell_type": "markdown",
   "metadata": {},
   "source": [
    "<h3>Los vectores tienen metodos ya definidos </h3>\n"
   ]
  },
  {
   "cell_type": "code",
   "execution_count": null,
   "metadata": {},
   "outputs": [],
   "source": [
    "#escalar.shape"
   ]
  },
  {
   "cell_type": "code",
   "execution_count": null,
   "metadata": {},
   "outputs": [],
   "source": [
    "#Shape del vector, un vector tiene la forma (n,)\n",
    "vector.shape"
   ]
  },
  {
   "cell_type": "code",
   "execution_count": null,
   "metadata": {},
   "outputs": [],
   "source": [
    "#Shape del vector\n",
    "matriz.shape"
   ]
  },
  {
   "cell_type": "code",
   "execution_count": null,
   "metadata": {},
   "outputs": [],
   "source": [
    "#Shape del vector\n",
    "tensor.shape"
   ]
  },
  {
   "cell_type": "code",
   "execution_count": null,
   "metadata": {},
   "outputs": [],
   "source": [
    "#Shape del vector\n",
    "vector.size"
   ]
  },
  {
   "cell_type": "code",
   "execution_count": null,
   "metadata": {},
   "outputs": [],
   "source": [
    "#Shape del vector\n",
    "matriz.size"
   ]
  },
  {
   "cell_type": "code",
   "execution_count": null,
   "metadata": {},
   "outputs": [],
   "source": [
    "#Shape del vector\n",
    "tensor.size"
   ]
  },
  {
   "cell_type": "markdown",
   "metadata": {},
   "source": [
    "<h3>Funcion de transpuesta </h3>"
   ]
  },
  {
   "cell_type": "code",
   "execution_count": null,
   "metadata": {},
   "outputs": [],
   "source": [
    "la_t = matriz.T\n",
    "print(la_t)\n",
    "print('***'*10)\n",
    "print(matriz)"
   ]
  },
  {
   "cell_type": "markdown",
   "metadata": {},
   "source": [
    "<h2>Un poco de álgebra lineal</h2>\n",
    "<h3> Suma de matrices </h3>"
   ]
  },
  {
   "cell_type": "markdown",
   "metadata": {},
   "source": [
    "<img src = \"https://encrypted-tbn0.gstatic.com/images?q=tbn%3AANd9GcQK1eHDso1bc2LePHwZAdR2U2zaQ9OHBvUoQQ&usqp=CAU\" >"
   ]
  },
  {
   "cell_type": "code",
   "execution_count": null,
   "metadata": {},
   "outputs": [],
   "source": [
    "#Creando A\n",
    "A = np.array([[2,0,1],[3,0,0],[5,1,1]])\n",
    "print(A)"
   ]
  },
  {
   "cell_type": "code",
   "execution_count": null,
   "metadata": {},
   "outputs": [],
   "source": [
    "#Creando B\n",
    "B = np.array([[1,0,1],[1,2,1],[1,1,0]])\n",
    "print(B)"
   ]
  },
  {
   "cell_type": "code",
   "execution_count": null,
   "metadata": {},
   "outputs": [],
   "source": [
    "#Haciendo la Suma\n",
    "C = A + B \n",
    "print(C)"
   ]
  },
  {
   "cell_type": "markdown",
   "metadata": {},
   "source": [
    "<h3>Resta </h3>"
   ]
  },
  {
   "cell_type": "code",
   "execution_count": null,
   "metadata": {},
   "outputs": [],
   "source": [
    "#Haciendo la Suma\n",
    "C = A - B \n",
    "print(C)"
   ]
  },
  {
   "cell_type": "markdown",
   "metadata": {},
   "source": [
    "<h3> Producto de matrices </h3>\n",
    "<p> Para poder multiplicar dos matrices, la primera debe tener el mismo número de columnas que filas la segunda. La matriz resultante del producto quedará con el mismo número de filas de la primera y con el mismo número de columnas de la segunda. Es decir, si tenemos una matriz 3 x 2 y la multiplicamos por otra de orden 2 x 3, la matriz resultante será de orden 3 x 3 </p>"
   ]
  },
  {
   "cell_type": "markdown",
   "metadata": {},
   "source": [
    "<center><img src=\"https://www.geogebra.org/resource/kevpmtYY/El2RF3Ix7onFfwtl/material-kevpmtYY.png\"><center>"
   ]
  },
  {
   "cell_type": "code",
   "execution_count": null,
   "metadata": {},
   "outputs": [],
   "source": [
    "#\n",
    "matriz_3_3 = np.array([[3,2,1],[1,1,3],[0,2,1]])\n",
    "print(matriz_3_3)"
   ]
  },
  {
   "cell_type": "code",
   "execution_count": null,
   "metadata": {},
   "outputs": [],
   "source": [
    "matriz_3_2 = np.array([[2,1],[1,0],[3,2]])\n",
    "print(matriz_3_2)"
   ]
  },
  {
   "cell_type": "code",
   "execution_count": null,
   "metadata": {},
   "outputs": [],
   "source": [
    "resultado = matriz_3_3.dot(matriz_3_2)\n",
    "print(resultado)"
   ]
  },
  {
   "cell_type": "markdown",
   "metadata": {},
   "source": [
    "<h3> Division </h3>"
   ]
  },
  {
   "cell_type": "code",
   "execution_count": null,
   "metadata": {},
   "outputs": [],
   "source": [
    "r_de_division = matriz_3_3 / 4\n",
    "print(matriz_3_3)\n",
    "print(\"*\"*50)\n",
    "print(r_de_division)"
   ]
  },
  {
   "cell_type": "markdown",
   "metadata": {},
   "source": [
    "<h2>Programación vectorial (Vectorization)</h2>\n",
    "<p>\n",
    "La vectorización se refiere a los métodos que intentan eliminar bucles usando otras funciones y operaciones equivalentes. Vamos a ver un pequeño ejemplo, digamos que tenemos un modelo matemático que describe el precio de un coche.\n",
    "</p>\n",
    "\n",
    "\\begin{equation*}\n",
    "  $ = x + 2y + 5z  \n",
    "\\end{equation*}\n",
    "\n",
    "<p>\n",
    "Ahora, imaginemos que queremos calcular el precio de unos 10000 autos, y los datos estuvieran representados con una lista anidada [[x1,y1,y1]...[x10000,y10000,z10000]], si quisieramos calcular el precio de cada uno, usando listas, seria de la siguiente manera:\n",
    "</p>"
   ]
  },
  {
   "cell_type": "code",
   "execution_count": null,
   "metadata": {},
   "outputs": [],
   "source": [
    "# todos_los_carros = [[3,4,1], [2,5,3], [9,3,2]]\n",
    "# precio = []\n",
    "# for uncarro in todos_los_carros:\n",
    "#     a = uncarro[0]\n",
    "#     b = uncarro[1] * 2\n",
    "#     c = uncarro[2] * 5\n",
    "#     precio.append(a+b+c)\n",
    "# print(precio)"
   ]
  },
  {
   "cell_type": "markdown",
   "metadata": {},
   "source": [
    "<p>Usando vectorización, tratamos nuestros datos como matrices, y se llegan a los mismos resultados que con el ciclo for</p>\n",
    "\n",
    "\\begin{equation*}\n",
    "  \\begin{bmatrix}\n",
    "    3 & 4 & 1\\\\\n",
    "    2 & 5 & 3\\\\\n",
    "    9 & 3 & 2\\\\\n",
    "  \\end{bmatrix}\n",
    "  \\times\n",
    "  \\begin{bmatrix}\n",
    "    1\\\\\n",
    "    2\\\\\n",
    "    5\\\\\n",
    "  \\end{bmatrix}\n",
    "\\end{equation*}\n"
   ]
  },
  {
   "cell_type": "code",
   "execution_count": null,
   "metadata": {},
   "outputs": [],
   "source": [
    "# Mejor podemos usar multiplicación de matrices para hacer mas sencillo el código, a la vez que lo estamos optimizando\n",
    "# Definimos a la función del costo en forma de un vector 1x3\n",
    "funcion = np.array([1,2,5])\n",
    "#MUY IMPORTANTE CHECAR COMO SE CONTRUYE LA MATRIZ, puede que en algunos casos se tenga que transponer\n",
    "carros = np.array([[3,4,1], [2,5,3], [9,3,2]]).T\n",
    "print(carros)\n",
    "# print(np.matmul(carros,funcion))\n",
    "print(np.dot(funcion,carros))"
   ]
  },
  {
   "cell_type": "markdown",
   "metadata": {},
   "source": [
    "<h1>¿Qué es Matplotlib?</h1>\n",
    "<center>\n",
    "<img src = 'https://steemitimages.com/640x0/https://res.cloudinary.com/hpiynhbhq/image/upload/v1521146556/frskntefqfbebukx3l1m.png' alt = 'Matplotlib' width = 330 height = 130 >\n",
    "</center>"
   ]
  },
  {
   "cell_type": "code",
   "execution_count": null,
   "metadata": {},
   "outputs": [],
   "source": [
    "#Importamos Matplotlib\n",
    "import matplotlib.pyplot as plt \n"
   ]
  },
  {
   "cell_type": "markdown",
   "metadata": {},
   "source": [
    "### Pero cómo graficar?\n",
    "Ya que matplotlib es gigantesco, y a lo largo de los años ha crecido en la cantidad de opciones y configuraciones, tenemos 2 formas principales en que podemos definir un gráfico\n",
    "\n",
    "- Orientado a objetos\n",
    "- Estilo Pyplot (Similar a matlab)\n"
   ]
  },
  {
   "cell_type": "code",
   "execution_count": null,
   "metadata": {},
   "outputs": [],
   "source": [
    "#Estilo pyplot\n",
    "x = np.linspace(0,10,2)\n",
    "plt.plot(x,x,'-.go')\n",
    "plt.xlabel('$x$')\n",
    "plt.ylabel('$y$')\n",
    "plt.title('Función lineal')\n",
    "plt.show()"
   ]
  },
  {
   "cell_type": "code",
   "execution_count": null,
   "metadata": {},
   "outputs": [],
   "source": [
    "#Estilo OO\n",
    "fig, ax = plt.subplots()\n",
    "ax.plot(x,x,'--bs')\n",
    "ax.set_xlabel('$x$')\n",
    "ax.set_ylabel('$y$')\n",
    "ax.set_title('Soy una función lineal')\n",
    "plt.show()"
   ]
  },
  {
   "cell_type": "markdown",
   "metadata": {},
   "source": [
    "O simplemente usamos plt.plot()"
   ]
  },
  {
   "cell_type": "markdown",
   "metadata": {},
   "source": [
    "<h2>Atributos modificables de una figura</h2>"
   ]
  },
  {
   "cell_type": "markdown",
   "metadata": {},
   "source": [
    "|Caracter|Descripción\n",
    "|-|-\n",
    "|'-'|Línea sólida\n",
    "|'--'|Línea discontinua\n",
    "|'-.'|Línea-Punto\n",
    "|':'|Línea punteada\n",
    "|'o'|Marcador de círculo\n",
    "|'v'|Marcador de trinagulo abajo\n",
    "|'^'|Marcador de trinagulo arriba\n",
    "|'s'|Marcador de cuadrado\n",
    "|'\\*'|Marcador de estrella\n",
    "\n",
    "|Caracter|Color\n",
    "|-|-\n",
    "|'b'|Azul\n",
    "|'g'|Verde\n",
    "|'r'|Rojo\n",
    "|'c'|Cyan\n",
    "|'m'|Magenta\n",
    "|'y'|Amarillo\n",
    "|'k'|Negro\n",
    "|'w'|Blanco"
   ]
  },
  {
   "cell_type": "code",
   "execution_count": null,
   "metadata": {},
   "outputs": [],
   "source": [
    "#Veamos estos atributos en acción con 3 funciones en la misma gráfica\n",
    "x = np.linspace(0, 3, 100)\n",
    "\n",
    "plt.plot(x, x,'b' , label='lineal') \n",
    "plt.plot(x, x**2, label='cuadratica') \n",
    "plt.plot(x, x**3, label='cubica')\n",
    "plt.xlabel('x label')\n",
    "plt.ylabel('y label')\n",
    "plt.title(\"Simple Plot\")\n",
    "plt.xticks(np.linspace(0,3,5))\n",
    "plt.yticks(np.linspace(0,27,7))\n",
    "plt.legend()\n",
    "plt.show()"
   ]
  },
  {
   "cell_type": "markdown",
   "metadata": {},
   "source": [
    "<h2>Un ejemplo rápido usando funciones trigonométricas</h2>\n",
    "Podemos crear una función:<br>\n",
    "\\begin{equation*}\n",
    "\\Large e^{-t} \\cdot cos(2 \\pi t)\n",
    "\\end{equation*}"
   ]
  },
  {
   "cell_type": "code",
   "execution_count": null,
   "metadata": {},
   "outputs": [],
   "source": [
    "#Definimos la función\n",
    "def f(t):\n",
    "    return np.exp(-t) * np.cos(2*np.pi*t)\n",
    "#Creamos los arreglos de tiempo \n",
    "\n",
    "t1 = np.arange(0.0, 5.0, 0.1)\n",
    "t2 = np.arange(0.0, 5.0, 0.02)\n",
    "\n",
    "#Iniciamos los subplots\n",
    "plt.figure()\n",
    "plt.subplot(2,1,1)\n",
    "plt.plot(t1, f(t1), 'o--b', t2, f(t2), 'k')\n",
    "\n",
    "plt.subplot(212)\n",
    "plt.plot(t2, np.cos(2*np.pi*t2), 'r--')\n",
    "plt.show()"
   ]
  },
  {
   "cell_type": "code",
   "execution_count": null,
   "metadata": {},
   "outputs": [],
   "source": [
    "#Juguemos un poco con las funciones trignonometricas\n",
    "x = np.linspace(0,10,200)\n",
    "f = 1\n",
    "#3 Funciones diferentes y su suma\n",
    "sin1 = np.sin((2*np.pi*f*2)*x)\n",
    "sin12 = np.sin((2*np.pi*f*2)*x + np.pi)\n",
    "sin2 = np.sin((2*np.pi*f*1)*x)\n",
    "sin3 = sin1+sin2+sin12\n",
    "\n",
    "#Las graficamos\n",
    "plt.figure()\n",
    "plt.subplot(3,1,1)\n",
    "plt.plot(x,sin1,x,sin12)\n",
    "plt.subplot(3,1,2)\n",
    "plt.plot(x,sin2)\n",
    "plt.subplot(3,1,3)\n",
    "plt.plot(x,sin3)\n",
    "plt.show()"
   ]
  },
  {
   "cell_type": "code",
   "execution_count": null,
   "metadata": {},
   "outputs": [],
   "source": [
    "#Ahora con OO\n",
    "fig , axes = plt.subplots(2,1)\n",
    "x1 = np.linspace(0,1,10)\n",
    "axes[0].stem(-x1,x1)\n",
    "axes[1].plot(x1,x1)\n",
    "plt.show()"
   ]
  },
  {
   "cell_type": "markdown",
   "metadata": {},
   "source": [
    "<h1>¿Qué es Ipywidgets?</h1>\n",
    "<center>\n",
    "<img src = 'https://ipywidgets.readthedocs.io/en/latest/_images/widgets.PNG' alt = 'Ipywidgets' >\n",
    "</center>"
   ]
  },
  {
   "cell_type": "markdown",
   "metadata": {},
   "source": [
    "<p>\n",
    "Los widgets son objetos de Python que reaccionan a eventos, tienen una representación gráfica en el navegador, usualmente en forma de Sliders (controles deslizables), Textboxs (cajas de texto), Botones, etc. Son usados para crear interfaces gráficas en las Jupyter notebooks.  \n",
    "</p>"
   ]
  },
  {
   "cell_type": "markdown",
   "metadata": {},
   "source": [
    "<h2>Declaración</h2>\n",
    "Se necesita primeramente una función para graficar, no necesitamos devolver ningun valor.<br><br>\n",
    "def plotting(valores de los widgets):<br>\n",
    "----code<br>\n",
    "----code<br><br>\n",
    "Posteriormente, para generar el gráfico interactivo, hacemos lo siguiente:<br><br>\n",
    "widgets.interact(plotting, elementos interactivos)<br><br>\n",
    "El primer parametro es la función que construye la figura, y los elementos siguientes son los widgets, estos valores se pasan automaticamente a la función plotting.\n"
   ]
  },
  {
   "cell_type": "markdown",
   "metadata": {},
   "source": [
    "<h2>¡Vamos a hacer un filtro pasabajas!"
   ]
  },
  {
   "cell_type": "markdown",
   "metadata": {},
   "source": [
    "\\begin{equation*}\n",
    "\\Large H(jw) = \\frac {1}{\\sqrt {1 + \\zeta^2 (\\frac {w}{w_{c}})^{2n}}}\n",
    "\\end{equation*}"
   ]
  },
  {
   "cell_type": "code",
   "execution_count": null,
   "metadata": {},
   "outputs": [],
   "source": [
    "#Importamos las librerias necesarias\n",
    "import ipywidgets as widgets\n",
    "from ipywidgets import interact"
   ]
  },
  {
   "cell_type": "code",
   "execution_count": null,
   "metadata": {},
   "outputs": [],
   "source": [
    "#Creamos la función para graficar\n",
    "def osciloscopio(Hz):\n",
    "    w = Hz\n",
    "    n = 2 #Orden del filtro\n",
    "    wc = 2000 #Frecuencia de corte\n",
    "    zeta = 0.707 #Amortigución\n",
    "    xt = np.linspace(- 0.5 * np.pi, 15 * np.pi, 2000)\n",
    "    Voltaje = 5 * np.sin(xt)\n",
    "\n",
    "    H = 1 / (1 + zeta**2 * (w/wc)**(2*n) ) ** 0.5  \n",
    "    plt.plot(xt, Voltaje, label = 'Voltaje de entrada')\n",
    "    plt.plot(xt, Voltaje * H, label = 'Voltaje de salida')\n",
    "    plt.legend(bbox_to_anchor=(1.05, 1)) #Localización de las leyendas de las ondas sinusoidales\n",
    "    plt.title('Simulación de osciloscopio')\n",
    "    plt.ylabel('Amplitud [V]')\n",
    "    plt.xlabel('Tiempo [t]')\n",
    "    plt.yticks(np.arange(-5, 6))\n",
    "    plt.show()"
   ]
  },
  {
   "cell_type": "code",
   "execution_count": null,
   "metadata": {},
   "outputs": [],
   "source": [
    "widgets.interact(osciloscopio, Hz = widgets.IntSlider(min = 100, max = 10000, value = 2000))"
   ]
  },
  {
   "source": [
    "<h2>Tarea</h2>\n",
    "<p>Realizar una gráfica con 4 subplots (2x2), en cada subplot van a ir funciones (trigonometricas, si gustan)<br>\n",
    "Un plus, va a ser hacer con la forma orientada a objetos<br>\n",
    "Un doble plus, sería hacerlo con OOP, y en menos de 10 lineas<br></p>\n",
    "<h3>Esperamos ver sus soluciones en el canal de Python del discord :D</h3>\n"
   ],
   "cell_type": "markdown",
   "metadata": {}
  },
  {
   "source": [
    "<h1 style = 'text-align:center;'>Proximamente</h1>\n",
    "<center><img src = 'https://sitiobigdata.com/wp-content/uploads/2019/06/python-945x462.png'></center>"
   ],
   "cell_type": "markdown",
   "metadata": {}
  }
 ],
 "metadata": {
  "kernelspec": {
   "display_name": "Python 3",
   "language": "python",
   "name": "python3"
  },
  "language_info": {
   "codemirror_mode": {
    "name": "ipython",
    "version": 3
   },
   "file_extension": ".py",
   "mimetype": "text/x-python",
   "name": "python",
   "nbconvert_exporter": "python",
   "pygments_lexer": "ipython3",
   "version": "3.7.6-final"
  }
 },
 "nbformat": 4,
 "nbformat_minor": 4
}